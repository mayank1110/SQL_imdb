{
 "cells": [
  {
   "cell_type": "markdown",
   "metadata": {
    "id": "hmzI5oZ6E_Hp"
   },
   "source": [
    "# SQL Assignment"
   ]
  },
  {
   "cell_type": "code",
   "execution_count": 1,
   "metadata": {
    "executionInfo": {
     "elapsed": 1736,
     "status": "ok",
     "timestamp": 1609094089882,
     "user": {
      "displayName": "Mayank Jha",
      "photoUrl": "https://lh3.googleusercontent.com/a-/AOh14Gjpty0QXyoLwhO9OUkLDVtaum1Hm8sD8RKgBHUhIw=s64",
      "userId": "07909938080885789879"
     },
     "user_tz": -330
    },
    "id": "wso5pGwnE_Ht"
   },
   "outputs": [],
   "source": [
    "import pandas as pd\n",
    "import sqlite3\n",
    "\n",
    "from IPython.display import display, HTML"
   ]
  },
  {
   "cell_type": "code",
   "execution_count": null,
   "metadata": {
    "id": "uMYMAPLm23sp"
   },
   "outputs": [],
   "source": [
    "# Note that this is not the same db we have used in course videos, please download from this link\n",
    "# https://drive.google.com/file/d/1O-1-L1DdNxEK6O6nG2jS31MbrMh-OnXM/view?usp=sharing"
   ]
  },
  {
   "cell_type": "code",
   "execution_count": 2,
   "metadata": {
    "colab": {
     "base_uri": "https://localhost:8080/"
    },
    "executionInfo": {
     "elapsed": 51948,
     "status": "ok",
     "timestamp": 1609094143030,
     "user": {
      "displayName": "Mayank Jha",
      "photoUrl": "https://lh3.googleusercontent.com/a-/AOh14Gjpty0QXyoLwhO9OUkLDVtaum1Hm8sD8RKgBHUhIw=s64",
      "userId": "07909938080885789879"
     },
     "user_tz": -330
    },
    "id": "3WqAA0lEYzTU",
    "outputId": "3fd91757-8e62-4990-dce4-474be9a023d0"
   },
   "outputs": [
    {
     "name": "stdout",
     "output_type": "stream",
     "text": [
      "Mounted at /content/drive\n"
     ]
    }
   ],
   "source": [
    "from google.colab import drive\n",
    "drive.mount('/content/drive')"
   ]
  },
  {
   "cell_type": "code",
   "execution_count": 3,
   "metadata": {
    "colab": {
     "base_uri": "https://localhost:8080/"
    },
    "executionInfo": {
     "elapsed": 1567,
     "status": "ok",
     "timestamp": 1609094148007,
     "user": {
      "displayName": "Mayank Jha",
      "photoUrl": "https://lh3.googleusercontent.com/a-/AOh14Gjpty0QXyoLwhO9OUkLDVtaum1Hm8sD8RKgBHUhIw=s64",
      "userId": "07909938080885789879"
     },
     "user_tz": -330
    },
    "id": "hjFdwTrkYzHZ",
    "outputId": "6a5f081b-8eae-45c5-c296-ebdaa91ce843"
   },
   "outputs": [
    {
     "name": "stdout",
     "output_type": "stream",
     "text": [
      " Db-IMDB-Assignment.db\t sql_question.gdoc  'SQL sample queries.ipynb'\n",
      " db_schema.jpeg\t\t sql_question.pdf\n"
     ]
    }
   ],
   "source": [
    "!ls '/content/drive/MyDrive/3_SQL/'"
   ]
  },
  {
   "cell_type": "code",
   "execution_count": 4,
   "metadata": {
    "executionInfo": {
     "elapsed": 1158,
     "status": "ok",
     "timestamp": 1609094150332,
     "user": {
      "displayName": "Mayank Jha",
      "photoUrl": "https://lh3.googleusercontent.com/a-/AOh14Gjpty0QXyoLwhO9OUkLDVtaum1Hm8sD8RKgBHUhIw=s64",
      "userId": "07909938080885789879"
     },
     "user_tz": -330
    },
    "id": "xrUl9ShkE_H0"
   },
   "outputs": [],
   "source": [
    "conn = sqlite3.connect('/content/drive/MyDrive/3_SQL/Db-IMDB-Assignment.db')"
   ]
  },
  {
   "cell_type": "markdown",
   "metadata": {
    "id": "Z_ADQl2BE_H6"
   },
   "source": [
    "#### Overview of all tables"
   ]
  },
  {
   "cell_type": "code",
   "execution_count": 5,
   "metadata": {
    "executionInfo": {
     "elapsed": 1453,
     "status": "ok",
     "timestamp": 1609094156634,
     "user": {
      "displayName": "Mayank Jha",
      "photoUrl": "https://lh3.googleusercontent.com/a-/AOh14Gjpty0QXyoLwhO9OUkLDVtaum1Hm8sD8RKgBHUhIw=s64",
      "userId": "07909938080885789879"
     },
     "user_tz": -330
    },
    "id": "7ZfheusYE_H7",
    "scrolled": true
   },
   "outputs": [],
   "source": [
    "tables = pd.read_sql_query(\"SELECT NAME AS 'Table_Name' FROM sqlite_master WHERE type='table'\",conn)\n",
    "tables = tables[\"Table_Name\"].values.tolist()"
   ]
  },
  {
   "cell_type": "code",
   "execution_count": 6,
   "metadata": {
    "colab": {
     "base_uri": "https://localhost:8080/"
    },
    "executionInfo": {
     "elapsed": 1164,
     "status": "ok",
     "timestamp": 1609094159045,
     "user": {
      "displayName": "Mayank Jha",
      "photoUrl": "https://lh3.googleusercontent.com/a-/AOh14Gjpty0QXyoLwhO9OUkLDVtaum1Hm8sD8RKgBHUhIw=s64",
      "userId": "07909938080885789879"
     },
     "user_tz": -330
    },
    "id": "ezs1mepNYYVe",
    "outputId": "d53ad3ba-6e16-445a-b36a-2f27ab9dd785"
   },
   "outputs": [
    {
     "data": {
      "text/plain": [
       "['Movie',\n",
       " 'Genre',\n",
       " 'Language',\n",
       " 'Country',\n",
       " 'Location',\n",
       " 'M_Location',\n",
       " 'M_Country',\n",
       " 'M_Language',\n",
       " 'M_Genre',\n",
       " 'Person',\n",
       " 'M_Producer',\n",
       " 'M_Director',\n",
       " 'M_Cast']"
      ]
     },
     "execution_count": 6,
     "metadata": {
      "tags": []
     },
     "output_type": "execute_result"
    }
   ],
   "source": [
    "tables"
   ]
  },
  {
   "cell_type": "code",
   "execution_count": 7,
   "metadata": {
    "colab": {
     "base_uri": "https://localhost:8080/",
     "height": 1000
    },
    "executionInfo": {
     "elapsed": 1261,
     "status": "ok",
     "timestamp": 1609094161063,
     "user": {
      "displayName": "Mayank Jha",
      "photoUrl": "https://lh3.googleusercontent.com/a-/AOh14Gjpty0QXyoLwhO9OUkLDVtaum1Hm8sD8RKgBHUhIw=s64",
      "userId": "07909938080885789879"
     },
     "user_tz": -330
    },
    "id": "f3zLh5FGE_H_",
    "outputId": "2f001b92-7a67-4221-d61e-65e5f12db593",
    "scrolled": true
   },
   "outputs": [
    {
     "name": "stdout",
     "output_type": "stream",
     "text": [
      "Schema of Movie\n"
     ]
    },
    {
     "data": {
      "text/html": [
       "<div>\n",
       "<style scoped>\n",
       "    .dataframe tbody tr th:only-of-type {\n",
       "        vertical-align: middle;\n",
       "    }\n",
       "\n",
       "    .dataframe tbody tr th {\n",
       "        vertical-align: top;\n",
       "    }\n",
       "\n",
       "    .dataframe thead th {\n",
       "        text-align: right;\n",
       "    }\n",
       "</style>\n",
       "<table border=\"1\" class=\"dataframe\">\n",
       "  <thead>\n",
       "    <tr style=\"text-align: right;\">\n",
       "      <th></th>\n",
       "      <th>cid</th>\n",
       "      <th>name</th>\n",
       "      <th>type</th>\n",
       "      <th>notnull</th>\n",
       "      <th>dflt_value</th>\n",
       "      <th>pk</th>\n",
       "    </tr>\n",
       "  </thead>\n",
       "  <tbody>\n",
       "    <tr>\n",
       "      <th>0</th>\n",
       "      <td>0</td>\n",
       "      <td>index</td>\n",
       "      <td>INTEGER</td>\n",
       "      <td>0</td>\n",
       "      <td>None</td>\n",
       "      <td>0</td>\n",
       "    </tr>\n",
       "    <tr>\n",
       "      <th>1</th>\n",
       "      <td>1</td>\n",
       "      <td>MID</td>\n",
       "      <td>TEXT</td>\n",
       "      <td>0</td>\n",
       "      <td>None</td>\n",
       "      <td>0</td>\n",
       "    </tr>\n",
       "    <tr>\n",
       "      <th>2</th>\n",
       "      <td>2</td>\n",
       "      <td>title</td>\n",
       "      <td>TEXT</td>\n",
       "      <td>0</td>\n",
       "      <td>None</td>\n",
       "      <td>0</td>\n",
       "    </tr>\n",
       "    <tr>\n",
       "      <th>3</th>\n",
       "      <td>3</td>\n",
       "      <td>year</td>\n",
       "      <td>TEXT</td>\n",
       "      <td>0</td>\n",
       "      <td>None</td>\n",
       "      <td>0</td>\n",
       "    </tr>\n",
       "    <tr>\n",
       "      <th>4</th>\n",
       "      <td>4</td>\n",
       "      <td>rating</td>\n",
       "      <td>REAL</td>\n",
       "      <td>0</td>\n",
       "      <td>None</td>\n",
       "      <td>0</td>\n",
       "    </tr>\n",
       "    <tr>\n",
       "      <th>5</th>\n",
       "      <td>5</td>\n",
       "      <td>num_votes</td>\n",
       "      <td>INTEGER</td>\n",
       "      <td>0</td>\n",
       "      <td>None</td>\n",
       "      <td>0</td>\n",
       "    </tr>\n",
       "  </tbody>\n",
       "</table>\n",
       "</div>"
      ],
      "text/plain": [
       "   cid       name     type  notnull dflt_value  pk\n",
       "0    0      index  INTEGER        0       None   0\n",
       "1    1        MID     TEXT        0       None   0\n",
       "2    2      title     TEXT        0       None   0\n",
       "3    3       year     TEXT        0       None   0\n",
       "4    4     rating     REAL        0       None   0\n",
       "5    5  num_votes  INTEGER        0       None   0"
      ]
     },
     "metadata": {
      "tags": []
     },
     "output_type": "display_data"
    },
    {
     "name": "stdout",
     "output_type": "stream",
     "text": [
      "----------------------------------------------------------------------------------------------------\n",
      "\n",
      "\n",
      "Schema of Genre\n"
     ]
    },
    {
     "data": {
      "text/html": [
       "<div>\n",
       "<style scoped>\n",
       "    .dataframe tbody tr th:only-of-type {\n",
       "        vertical-align: middle;\n",
       "    }\n",
       "\n",
       "    .dataframe tbody tr th {\n",
       "        vertical-align: top;\n",
       "    }\n",
       "\n",
       "    .dataframe thead th {\n",
       "        text-align: right;\n",
       "    }\n",
       "</style>\n",
       "<table border=\"1\" class=\"dataframe\">\n",
       "  <thead>\n",
       "    <tr style=\"text-align: right;\">\n",
       "      <th></th>\n",
       "      <th>cid</th>\n",
       "      <th>name</th>\n",
       "      <th>type</th>\n",
       "      <th>notnull</th>\n",
       "      <th>dflt_value</th>\n",
       "      <th>pk</th>\n",
       "    </tr>\n",
       "  </thead>\n",
       "  <tbody>\n",
       "    <tr>\n",
       "      <th>0</th>\n",
       "      <td>0</td>\n",
       "      <td>index</td>\n",
       "      <td>INTEGER</td>\n",
       "      <td>0</td>\n",
       "      <td>None</td>\n",
       "      <td>0</td>\n",
       "    </tr>\n",
       "    <tr>\n",
       "      <th>1</th>\n",
       "      <td>1</td>\n",
       "      <td>Name</td>\n",
       "      <td>TEXT</td>\n",
       "      <td>0</td>\n",
       "      <td>None</td>\n",
       "      <td>0</td>\n",
       "    </tr>\n",
       "    <tr>\n",
       "      <th>2</th>\n",
       "      <td>2</td>\n",
       "      <td>GID</td>\n",
       "      <td>INTEGER</td>\n",
       "      <td>0</td>\n",
       "      <td>None</td>\n",
       "      <td>0</td>\n",
       "    </tr>\n",
       "  </tbody>\n",
       "</table>\n",
       "</div>"
      ],
      "text/plain": [
       "   cid   name     type  notnull dflt_value  pk\n",
       "0    0  index  INTEGER        0       None   0\n",
       "1    1   Name     TEXT        0       None   0\n",
       "2    2    GID  INTEGER        0       None   0"
      ]
     },
     "metadata": {
      "tags": []
     },
     "output_type": "display_data"
    },
    {
     "name": "stdout",
     "output_type": "stream",
     "text": [
      "----------------------------------------------------------------------------------------------------\n",
      "\n",
      "\n",
      "Schema of Language\n"
     ]
    },
    {
     "data": {
      "text/html": [
       "<div>\n",
       "<style scoped>\n",
       "    .dataframe tbody tr th:only-of-type {\n",
       "        vertical-align: middle;\n",
       "    }\n",
       "\n",
       "    .dataframe tbody tr th {\n",
       "        vertical-align: top;\n",
       "    }\n",
       "\n",
       "    .dataframe thead th {\n",
       "        text-align: right;\n",
       "    }\n",
       "</style>\n",
       "<table border=\"1\" class=\"dataframe\">\n",
       "  <thead>\n",
       "    <tr style=\"text-align: right;\">\n",
       "      <th></th>\n",
       "      <th>cid</th>\n",
       "      <th>name</th>\n",
       "      <th>type</th>\n",
       "      <th>notnull</th>\n",
       "      <th>dflt_value</th>\n",
       "      <th>pk</th>\n",
       "    </tr>\n",
       "  </thead>\n",
       "  <tbody>\n",
       "    <tr>\n",
       "      <th>0</th>\n",
       "      <td>0</td>\n",
       "      <td>index</td>\n",
       "      <td>INTEGER</td>\n",
       "      <td>0</td>\n",
       "      <td>None</td>\n",
       "      <td>0</td>\n",
       "    </tr>\n",
       "    <tr>\n",
       "      <th>1</th>\n",
       "      <td>1</td>\n",
       "      <td>Name</td>\n",
       "      <td>TEXT</td>\n",
       "      <td>0</td>\n",
       "      <td>None</td>\n",
       "      <td>0</td>\n",
       "    </tr>\n",
       "    <tr>\n",
       "      <th>2</th>\n",
       "      <td>2</td>\n",
       "      <td>LAID</td>\n",
       "      <td>INTEGER</td>\n",
       "      <td>0</td>\n",
       "      <td>None</td>\n",
       "      <td>0</td>\n",
       "    </tr>\n",
       "  </tbody>\n",
       "</table>\n",
       "</div>"
      ],
      "text/plain": [
       "   cid   name     type  notnull dflt_value  pk\n",
       "0    0  index  INTEGER        0       None   0\n",
       "1    1   Name     TEXT        0       None   0\n",
       "2    2   LAID  INTEGER        0       None   0"
      ]
     },
     "metadata": {
      "tags": []
     },
     "output_type": "display_data"
    },
    {
     "name": "stdout",
     "output_type": "stream",
     "text": [
      "----------------------------------------------------------------------------------------------------\n",
      "\n",
      "\n",
      "Schema of Country\n"
     ]
    },
    {
     "data": {
      "text/html": [
       "<div>\n",
       "<style scoped>\n",
       "    .dataframe tbody tr th:only-of-type {\n",
       "        vertical-align: middle;\n",
       "    }\n",
       "\n",
       "    .dataframe tbody tr th {\n",
       "        vertical-align: top;\n",
       "    }\n",
       "\n",
       "    .dataframe thead th {\n",
       "        text-align: right;\n",
       "    }\n",
       "</style>\n",
       "<table border=\"1\" class=\"dataframe\">\n",
       "  <thead>\n",
       "    <tr style=\"text-align: right;\">\n",
       "      <th></th>\n",
       "      <th>cid</th>\n",
       "      <th>name</th>\n",
       "      <th>type</th>\n",
       "      <th>notnull</th>\n",
       "      <th>dflt_value</th>\n",
       "      <th>pk</th>\n",
       "    </tr>\n",
       "  </thead>\n",
       "  <tbody>\n",
       "    <tr>\n",
       "      <th>0</th>\n",
       "      <td>0</td>\n",
       "      <td>index</td>\n",
       "      <td>INTEGER</td>\n",
       "      <td>0</td>\n",
       "      <td>None</td>\n",
       "      <td>0</td>\n",
       "    </tr>\n",
       "    <tr>\n",
       "      <th>1</th>\n",
       "      <td>1</td>\n",
       "      <td>Name</td>\n",
       "      <td>TEXT</td>\n",
       "      <td>0</td>\n",
       "      <td>None</td>\n",
       "      <td>0</td>\n",
       "    </tr>\n",
       "    <tr>\n",
       "      <th>2</th>\n",
       "      <td>2</td>\n",
       "      <td>CID</td>\n",
       "      <td>INTEGER</td>\n",
       "      <td>0</td>\n",
       "      <td>None</td>\n",
       "      <td>0</td>\n",
       "    </tr>\n",
       "  </tbody>\n",
       "</table>\n",
       "</div>"
      ],
      "text/plain": [
       "   cid   name     type  notnull dflt_value  pk\n",
       "0    0  index  INTEGER        0       None   0\n",
       "1    1   Name     TEXT        0       None   0\n",
       "2    2    CID  INTEGER        0       None   0"
      ]
     },
     "metadata": {
      "tags": []
     },
     "output_type": "display_data"
    },
    {
     "name": "stdout",
     "output_type": "stream",
     "text": [
      "----------------------------------------------------------------------------------------------------\n",
      "\n",
      "\n",
      "Schema of Location\n"
     ]
    },
    {
     "data": {
      "text/html": [
       "<div>\n",
       "<style scoped>\n",
       "    .dataframe tbody tr th:only-of-type {\n",
       "        vertical-align: middle;\n",
       "    }\n",
       "\n",
       "    .dataframe tbody tr th {\n",
       "        vertical-align: top;\n",
       "    }\n",
       "\n",
       "    .dataframe thead th {\n",
       "        text-align: right;\n",
       "    }\n",
       "</style>\n",
       "<table border=\"1\" class=\"dataframe\">\n",
       "  <thead>\n",
       "    <tr style=\"text-align: right;\">\n",
       "      <th></th>\n",
       "      <th>cid</th>\n",
       "      <th>name</th>\n",
       "      <th>type</th>\n",
       "      <th>notnull</th>\n",
       "      <th>dflt_value</th>\n",
       "      <th>pk</th>\n",
       "    </tr>\n",
       "  </thead>\n",
       "  <tbody>\n",
       "    <tr>\n",
       "      <th>0</th>\n",
       "      <td>0</td>\n",
       "      <td>index</td>\n",
       "      <td>INTEGER</td>\n",
       "      <td>0</td>\n",
       "      <td>None</td>\n",
       "      <td>0</td>\n",
       "    </tr>\n",
       "    <tr>\n",
       "      <th>1</th>\n",
       "      <td>1</td>\n",
       "      <td>Name</td>\n",
       "      <td>TEXT</td>\n",
       "      <td>0</td>\n",
       "      <td>None</td>\n",
       "      <td>0</td>\n",
       "    </tr>\n",
       "    <tr>\n",
       "      <th>2</th>\n",
       "      <td>2</td>\n",
       "      <td>LID</td>\n",
       "      <td>INTEGER</td>\n",
       "      <td>0</td>\n",
       "      <td>None</td>\n",
       "      <td>0</td>\n",
       "    </tr>\n",
       "  </tbody>\n",
       "</table>\n",
       "</div>"
      ],
      "text/plain": [
       "   cid   name     type  notnull dflt_value  pk\n",
       "0    0  index  INTEGER        0       None   0\n",
       "1    1   Name     TEXT        0       None   0\n",
       "2    2    LID  INTEGER        0       None   0"
      ]
     },
     "metadata": {
      "tags": []
     },
     "output_type": "display_data"
    },
    {
     "name": "stdout",
     "output_type": "stream",
     "text": [
      "----------------------------------------------------------------------------------------------------\n",
      "\n",
      "\n",
      "Schema of M_Location\n"
     ]
    },
    {
     "data": {
      "text/html": [
       "<div>\n",
       "<style scoped>\n",
       "    .dataframe tbody tr th:only-of-type {\n",
       "        vertical-align: middle;\n",
       "    }\n",
       "\n",
       "    .dataframe tbody tr th {\n",
       "        vertical-align: top;\n",
       "    }\n",
       "\n",
       "    .dataframe thead th {\n",
       "        text-align: right;\n",
       "    }\n",
       "</style>\n",
       "<table border=\"1\" class=\"dataframe\">\n",
       "  <thead>\n",
       "    <tr style=\"text-align: right;\">\n",
       "      <th></th>\n",
       "      <th>cid</th>\n",
       "      <th>name</th>\n",
       "      <th>type</th>\n",
       "      <th>notnull</th>\n",
       "      <th>dflt_value</th>\n",
       "      <th>pk</th>\n",
       "    </tr>\n",
       "  </thead>\n",
       "  <tbody>\n",
       "    <tr>\n",
       "      <th>0</th>\n",
       "      <td>0</td>\n",
       "      <td>index</td>\n",
       "      <td>INTEGER</td>\n",
       "      <td>0</td>\n",
       "      <td>None</td>\n",
       "      <td>0</td>\n",
       "    </tr>\n",
       "    <tr>\n",
       "      <th>1</th>\n",
       "      <td>1</td>\n",
       "      <td>MID</td>\n",
       "      <td>TEXT</td>\n",
       "      <td>0</td>\n",
       "      <td>None</td>\n",
       "      <td>0</td>\n",
       "    </tr>\n",
       "    <tr>\n",
       "      <th>2</th>\n",
       "      <td>2</td>\n",
       "      <td>LID</td>\n",
       "      <td>REAL</td>\n",
       "      <td>0</td>\n",
       "      <td>None</td>\n",
       "      <td>0</td>\n",
       "    </tr>\n",
       "    <tr>\n",
       "      <th>3</th>\n",
       "      <td>3</td>\n",
       "      <td>ID</td>\n",
       "      <td>INTEGER</td>\n",
       "      <td>0</td>\n",
       "      <td>None</td>\n",
       "      <td>0</td>\n",
       "    </tr>\n",
       "  </tbody>\n",
       "</table>\n",
       "</div>"
      ],
      "text/plain": [
       "   cid   name     type  notnull dflt_value  pk\n",
       "0    0  index  INTEGER        0       None   0\n",
       "1    1    MID     TEXT        0       None   0\n",
       "2    2    LID     REAL        0       None   0\n",
       "3    3     ID  INTEGER        0       None   0"
      ]
     },
     "metadata": {
      "tags": []
     },
     "output_type": "display_data"
    },
    {
     "name": "stdout",
     "output_type": "stream",
     "text": [
      "----------------------------------------------------------------------------------------------------\n",
      "\n",
      "\n",
      "Schema of M_Country\n"
     ]
    },
    {
     "data": {
      "text/html": [
       "<div>\n",
       "<style scoped>\n",
       "    .dataframe tbody tr th:only-of-type {\n",
       "        vertical-align: middle;\n",
       "    }\n",
       "\n",
       "    .dataframe tbody tr th {\n",
       "        vertical-align: top;\n",
       "    }\n",
       "\n",
       "    .dataframe thead th {\n",
       "        text-align: right;\n",
       "    }\n",
       "</style>\n",
       "<table border=\"1\" class=\"dataframe\">\n",
       "  <thead>\n",
       "    <tr style=\"text-align: right;\">\n",
       "      <th></th>\n",
       "      <th>cid</th>\n",
       "      <th>name</th>\n",
       "      <th>type</th>\n",
       "      <th>notnull</th>\n",
       "      <th>dflt_value</th>\n",
       "      <th>pk</th>\n",
       "    </tr>\n",
       "  </thead>\n",
       "  <tbody>\n",
       "    <tr>\n",
       "      <th>0</th>\n",
       "      <td>0</td>\n",
       "      <td>index</td>\n",
       "      <td>INTEGER</td>\n",
       "      <td>0</td>\n",
       "      <td>None</td>\n",
       "      <td>0</td>\n",
       "    </tr>\n",
       "    <tr>\n",
       "      <th>1</th>\n",
       "      <td>1</td>\n",
       "      <td>MID</td>\n",
       "      <td>TEXT</td>\n",
       "      <td>0</td>\n",
       "      <td>None</td>\n",
       "      <td>0</td>\n",
       "    </tr>\n",
       "    <tr>\n",
       "      <th>2</th>\n",
       "      <td>2</td>\n",
       "      <td>CID</td>\n",
       "      <td>REAL</td>\n",
       "      <td>0</td>\n",
       "      <td>None</td>\n",
       "      <td>0</td>\n",
       "    </tr>\n",
       "    <tr>\n",
       "      <th>3</th>\n",
       "      <td>3</td>\n",
       "      <td>ID</td>\n",
       "      <td>INTEGER</td>\n",
       "      <td>0</td>\n",
       "      <td>None</td>\n",
       "      <td>0</td>\n",
       "    </tr>\n",
       "  </tbody>\n",
       "</table>\n",
       "</div>"
      ],
      "text/plain": [
       "   cid   name     type  notnull dflt_value  pk\n",
       "0    0  index  INTEGER        0       None   0\n",
       "1    1    MID     TEXT        0       None   0\n",
       "2    2    CID     REAL        0       None   0\n",
       "3    3     ID  INTEGER        0       None   0"
      ]
     },
     "metadata": {
      "tags": []
     },
     "output_type": "display_data"
    },
    {
     "name": "stdout",
     "output_type": "stream",
     "text": [
      "----------------------------------------------------------------------------------------------------\n",
      "\n",
      "\n",
      "Schema of M_Language\n"
     ]
    },
    {
     "data": {
      "text/html": [
       "<div>\n",
       "<style scoped>\n",
       "    .dataframe tbody tr th:only-of-type {\n",
       "        vertical-align: middle;\n",
       "    }\n",
       "\n",
       "    .dataframe tbody tr th {\n",
       "        vertical-align: top;\n",
       "    }\n",
       "\n",
       "    .dataframe thead th {\n",
       "        text-align: right;\n",
       "    }\n",
       "</style>\n",
       "<table border=\"1\" class=\"dataframe\">\n",
       "  <thead>\n",
       "    <tr style=\"text-align: right;\">\n",
       "      <th></th>\n",
       "      <th>cid</th>\n",
       "      <th>name</th>\n",
       "      <th>type</th>\n",
       "      <th>notnull</th>\n",
       "      <th>dflt_value</th>\n",
       "      <th>pk</th>\n",
       "    </tr>\n",
       "  </thead>\n",
       "  <tbody>\n",
       "    <tr>\n",
       "      <th>0</th>\n",
       "      <td>0</td>\n",
       "      <td>index</td>\n",
       "      <td>INTEGER</td>\n",
       "      <td>0</td>\n",
       "      <td>None</td>\n",
       "      <td>0</td>\n",
       "    </tr>\n",
       "    <tr>\n",
       "      <th>1</th>\n",
       "      <td>1</td>\n",
       "      <td>MID</td>\n",
       "      <td>TEXT</td>\n",
       "      <td>0</td>\n",
       "      <td>None</td>\n",
       "      <td>0</td>\n",
       "    </tr>\n",
       "    <tr>\n",
       "      <th>2</th>\n",
       "      <td>2</td>\n",
       "      <td>LAID</td>\n",
       "      <td>INTEGER</td>\n",
       "      <td>0</td>\n",
       "      <td>None</td>\n",
       "      <td>0</td>\n",
       "    </tr>\n",
       "    <tr>\n",
       "      <th>3</th>\n",
       "      <td>3</td>\n",
       "      <td>ID</td>\n",
       "      <td>INTEGER</td>\n",
       "      <td>0</td>\n",
       "      <td>None</td>\n",
       "      <td>0</td>\n",
       "    </tr>\n",
       "  </tbody>\n",
       "</table>\n",
       "</div>"
      ],
      "text/plain": [
       "   cid   name     type  notnull dflt_value  pk\n",
       "0    0  index  INTEGER        0       None   0\n",
       "1    1    MID     TEXT        0       None   0\n",
       "2    2   LAID  INTEGER        0       None   0\n",
       "3    3     ID  INTEGER        0       None   0"
      ]
     },
     "metadata": {
      "tags": []
     },
     "output_type": "display_data"
    },
    {
     "name": "stdout",
     "output_type": "stream",
     "text": [
      "----------------------------------------------------------------------------------------------------\n",
      "\n",
      "\n",
      "Schema of M_Genre\n"
     ]
    },
    {
     "data": {
      "text/html": [
       "<div>\n",
       "<style scoped>\n",
       "    .dataframe tbody tr th:only-of-type {\n",
       "        vertical-align: middle;\n",
       "    }\n",
       "\n",
       "    .dataframe tbody tr th {\n",
       "        vertical-align: top;\n",
       "    }\n",
       "\n",
       "    .dataframe thead th {\n",
       "        text-align: right;\n",
       "    }\n",
       "</style>\n",
       "<table border=\"1\" class=\"dataframe\">\n",
       "  <thead>\n",
       "    <tr style=\"text-align: right;\">\n",
       "      <th></th>\n",
       "      <th>cid</th>\n",
       "      <th>name</th>\n",
       "      <th>type</th>\n",
       "      <th>notnull</th>\n",
       "      <th>dflt_value</th>\n",
       "      <th>pk</th>\n",
       "    </tr>\n",
       "  </thead>\n",
       "  <tbody>\n",
       "    <tr>\n",
       "      <th>0</th>\n",
       "      <td>0</td>\n",
       "      <td>index</td>\n",
       "      <td>INTEGER</td>\n",
       "      <td>0</td>\n",
       "      <td>None</td>\n",
       "      <td>0</td>\n",
       "    </tr>\n",
       "    <tr>\n",
       "      <th>1</th>\n",
       "      <td>1</td>\n",
       "      <td>MID</td>\n",
       "      <td>TEXT</td>\n",
       "      <td>0</td>\n",
       "      <td>None</td>\n",
       "      <td>0</td>\n",
       "    </tr>\n",
       "    <tr>\n",
       "      <th>2</th>\n",
       "      <td>2</td>\n",
       "      <td>GID</td>\n",
       "      <td>INTEGER</td>\n",
       "      <td>0</td>\n",
       "      <td>None</td>\n",
       "      <td>0</td>\n",
       "    </tr>\n",
       "    <tr>\n",
       "      <th>3</th>\n",
       "      <td>3</td>\n",
       "      <td>ID</td>\n",
       "      <td>INTEGER</td>\n",
       "      <td>0</td>\n",
       "      <td>None</td>\n",
       "      <td>0</td>\n",
       "    </tr>\n",
       "  </tbody>\n",
       "</table>\n",
       "</div>"
      ],
      "text/plain": [
       "   cid   name     type  notnull dflt_value  pk\n",
       "0    0  index  INTEGER        0       None   0\n",
       "1    1    MID     TEXT        0       None   0\n",
       "2    2    GID  INTEGER        0       None   0\n",
       "3    3     ID  INTEGER        0       None   0"
      ]
     },
     "metadata": {
      "tags": []
     },
     "output_type": "display_data"
    },
    {
     "name": "stdout",
     "output_type": "stream",
     "text": [
      "----------------------------------------------------------------------------------------------------\n",
      "\n",
      "\n",
      "Schema of Person\n"
     ]
    },
    {
     "data": {
      "text/html": [
       "<div>\n",
       "<style scoped>\n",
       "    .dataframe tbody tr th:only-of-type {\n",
       "        vertical-align: middle;\n",
       "    }\n",
       "\n",
       "    .dataframe tbody tr th {\n",
       "        vertical-align: top;\n",
       "    }\n",
       "\n",
       "    .dataframe thead th {\n",
       "        text-align: right;\n",
       "    }\n",
       "</style>\n",
       "<table border=\"1\" class=\"dataframe\">\n",
       "  <thead>\n",
       "    <tr style=\"text-align: right;\">\n",
       "      <th></th>\n",
       "      <th>cid</th>\n",
       "      <th>name</th>\n",
       "      <th>type</th>\n",
       "      <th>notnull</th>\n",
       "      <th>dflt_value</th>\n",
       "      <th>pk</th>\n",
       "    </tr>\n",
       "  </thead>\n",
       "  <tbody>\n",
       "    <tr>\n",
       "      <th>0</th>\n",
       "      <td>0</td>\n",
       "      <td>index</td>\n",
       "      <td>INTEGER</td>\n",
       "      <td>0</td>\n",
       "      <td>None</td>\n",
       "      <td>0</td>\n",
       "    </tr>\n",
       "    <tr>\n",
       "      <th>1</th>\n",
       "      <td>1</td>\n",
       "      <td>PID</td>\n",
       "      <td>TEXT</td>\n",
       "      <td>0</td>\n",
       "      <td>None</td>\n",
       "      <td>0</td>\n",
       "    </tr>\n",
       "    <tr>\n",
       "      <th>2</th>\n",
       "      <td>2</td>\n",
       "      <td>Name</td>\n",
       "      <td>TEXT</td>\n",
       "      <td>0</td>\n",
       "      <td>None</td>\n",
       "      <td>0</td>\n",
       "    </tr>\n",
       "    <tr>\n",
       "      <th>3</th>\n",
       "      <td>3</td>\n",
       "      <td>Gender</td>\n",
       "      <td>TEXT</td>\n",
       "      <td>0</td>\n",
       "      <td>None</td>\n",
       "      <td>0</td>\n",
       "    </tr>\n",
       "  </tbody>\n",
       "</table>\n",
       "</div>"
      ],
      "text/plain": [
       "   cid    name     type  notnull dflt_value  pk\n",
       "0    0   index  INTEGER        0       None   0\n",
       "1    1     PID     TEXT        0       None   0\n",
       "2    2    Name     TEXT        0       None   0\n",
       "3    3  Gender     TEXT        0       None   0"
      ]
     },
     "metadata": {
      "tags": []
     },
     "output_type": "display_data"
    },
    {
     "name": "stdout",
     "output_type": "stream",
     "text": [
      "----------------------------------------------------------------------------------------------------\n",
      "\n",
      "\n",
      "Schema of M_Producer\n"
     ]
    },
    {
     "data": {
      "text/html": [
       "<div>\n",
       "<style scoped>\n",
       "    .dataframe tbody tr th:only-of-type {\n",
       "        vertical-align: middle;\n",
       "    }\n",
       "\n",
       "    .dataframe tbody tr th {\n",
       "        vertical-align: top;\n",
       "    }\n",
       "\n",
       "    .dataframe thead th {\n",
       "        text-align: right;\n",
       "    }\n",
       "</style>\n",
       "<table border=\"1\" class=\"dataframe\">\n",
       "  <thead>\n",
       "    <tr style=\"text-align: right;\">\n",
       "      <th></th>\n",
       "      <th>cid</th>\n",
       "      <th>name</th>\n",
       "      <th>type</th>\n",
       "      <th>notnull</th>\n",
       "      <th>dflt_value</th>\n",
       "      <th>pk</th>\n",
       "    </tr>\n",
       "  </thead>\n",
       "  <tbody>\n",
       "    <tr>\n",
       "      <th>0</th>\n",
       "      <td>0</td>\n",
       "      <td>index</td>\n",
       "      <td>INTEGER</td>\n",
       "      <td>0</td>\n",
       "      <td>None</td>\n",
       "      <td>0</td>\n",
       "    </tr>\n",
       "    <tr>\n",
       "      <th>1</th>\n",
       "      <td>1</td>\n",
       "      <td>MID</td>\n",
       "      <td>TEXT</td>\n",
       "      <td>0</td>\n",
       "      <td>None</td>\n",
       "      <td>0</td>\n",
       "    </tr>\n",
       "    <tr>\n",
       "      <th>2</th>\n",
       "      <td>2</td>\n",
       "      <td>PID</td>\n",
       "      <td>TEXT</td>\n",
       "      <td>0</td>\n",
       "      <td>None</td>\n",
       "      <td>0</td>\n",
       "    </tr>\n",
       "    <tr>\n",
       "      <th>3</th>\n",
       "      <td>3</td>\n",
       "      <td>ID</td>\n",
       "      <td>INTEGER</td>\n",
       "      <td>0</td>\n",
       "      <td>None</td>\n",
       "      <td>0</td>\n",
       "    </tr>\n",
       "  </tbody>\n",
       "</table>\n",
       "</div>"
      ],
      "text/plain": [
       "   cid   name     type  notnull dflt_value  pk\n",
       "0    0  index  INTEGER        0       None   0\n",
       "1    1    MID     TEXT        0       None   0\n",
       "2    2    PID     TEXT        0       None   0\n",
       "3    3     ID  INTEGER        0       None   0"
      ]
     },
     "metadata": {
      "tags": []
     },
     "output_type": "display_data"
    },
    {
     "name": "stdout",
     "output_type": "stream",
     "text": [
      "----------------------------------------------------------------------------------------------------\n",
      "\n",
      "\n",
      "Schema of M_Director\n"
     ]
    },
    {
     "data": {
      "text/html": [
       "<div>\n",
       "<style scoped>\n",
       "    .dataframe tbody tr th:only-of-type {\n",
       "        vertical-align: middle;\n",
       "    }\n",
       "\n",
       "    .dataframe tbody tr th {\n",
       "        vertical-align: top;\n",
       "    }\n",
       "\n",
       "    .dataframe thead th {\n",
       "        text-align: right;\n",
       "    }\n",
       "</style>\n",
       "<table border=\"1\" class=\"dataframe\">\n",
       "  <thead>\n",
       "    <tr style=\"text-align: right;\">\n",
       "      <th></th>\n",
       "      <th>cid</th>\n",
       "      <th>name</th>\n",
       "      <th>type</th>\n",
       "      <th>notnull</th>\n",
       "      <th>dflt_value</th>\n",
       "      <th>pk</th>\n",
       "    </tr>\n",
       "  </thead>\n",
       "  <tbody>\n",
       "    <tr>\n",
       "      <th>0</th>\n",
       "      <td>0</td>\n",
       "      <td>index</td>\n",
       "      <td>INTEGER</td>\n",
       "      <td>0</td>\n",
       "      <td>None</td>\n",
       "      <td>0</td>\n",
       "    </tr>\n",
       "    <tr>\n",
       "      <th>1</th>\n",
       "      <td>1</td>\n",
       "      <td>MID</td>\n",
       "      <td>TEXT</td>\n",
       "      <td>0</td>\n",
       "      <td>None</td>\n",
       "      <td>0</td>\n",
       "    </tr>\n",
       "    <tr>\n",
       "      <th>2</th>\n",
       "      <td>2</td>\n",
       "      <td>PID</td>\n",
       "      <td>TEXT</td>\n",
       "      <td>0</td>\n",
       "      <td>None</td>\n",
       "      <td>0</td>\n",
       "    </tr>\n",
       "    <tr>\n",
       "      <th>3</th>\n",
       "      <td>3</td>\n",
       "      <td>ID</td>\n",
       "      <td>INTEGER</td>\n",
       "      <td>0</td>\n",
       "      <td>None</td>\n",
       "      <td>0</td>\n",
       "    </tr>\n",
       "  </tbody>\n",
       "</table>\n",
       "</div>"
      ],
      "text/plain": [
       "   cid   name     type  notnull dflt_value  pk\n",
       "0    0  index  INTEGER        0       None   0\n",
       "1    1    MID     TEXT        0       None   0\n",
       "2    2    PID     TEXT        0       None   0\n",
       "3    3     ID  INTEGER        0       None   0"
      ]
     },
     "metadata": {
      "tags": []
     },
     "output_type": "display_data"
    },
    {
     "name": "stdout",
     "output_type": "stream",
     "text": [
      "----------------------------------------------------------------------------------------------------\n",
      "\n",
      "\n",
      "Schema of M_Cast\n"
     ]
    },
    {
     "data": {
      "text/html": [
       "<div>\n",
       "<style scoped>\n",
       "    .dataframe tbody tr th:only-of-type {\n",
       "        vertical-align: middle;\n",
       "    }\n",
       "\n",
       "    .dataframe tbody tr th {\n",
       "        vertical-align: top;\n",
       "    }\n",
       "\n",
       "    .dataframe thead th {\n",
       "        text-align: right;\n",
       "    }\n",
       "</style>\n",
       "<table border=\"1\" class=\"dataframe\">\n",
       "  <thead>\n",
       "    <tr style=\"text-align: right;\">\n",
       "      <th></th>\n",
       "      <th>cid</th>\n",
       "      <th>name</th>\n",
       "      <th>type</th>\n",
       "      <th>notnull</th>\n",
       "      <th>dflt_value</th>\n",
       "      <th>pk</th>\n",
       "    </tr>\n",
       "  </thead>\n",
       "  <tbody>\n",
       "    <tr>\n",
       "      <th>0</th>\n",
       "      <td>0</td>\n",
       "      <td>index</td>\n",
       "      <td>INTEGER</td>\n",
       "      <td>0</td>\n",
       "      <td>None</td>\n",
       "      <td>0</td>\n",
       "    </tr>\n",
       "    <tr>\n",
       "      <th>1</th>\n",
       "      <td>1</td>\n",
       "      <td>MID</td>\n",
       "      <td>TEXT</td>\n",
       "      <td>0</td>\n",
       "      <td>None</td>\n",
       "      <td>0</td>\n",
       "    </tr>\n",
       "    <tr>\n",
       "      <th>2</th>\n",
       "      <td>2</td>\n",
       "      <td>PID</td>\n",
       "      <td>TEXT</td>\n",
       "      <td>0</td>\n",
       "      <td>None</td>\n",
       "      <td>0</td>\n",
       "    </tr>\n",
       "    <tr>\n",
       "      <th>3</th>\n",
       "      <td>3</td>\n",
       "      <td>ID</td>\n",
       "      <td>INTEGER</td>\n",
       "      <td>0</td>\n",
       "      <td>None</td>\n",
       "      <td>0</td>\n",
       "    </tr>\n",
       "  </tbody>\n",
       "</table>\n",
       "</div>"
      ],
      "text/plain": [
       "   cid   name     type  notnull dflt_value  pk\n",
       "0    0  index  INTEGER        0       None   0\n",
       "1    1    MID     TEXT        0       None   0\n",
       "2    2    PID     TEXT        0       None   0\n",
       "3    3     ID  INTEGER        0       None   0"
      ]
     },
     "metadata": {
      "tags": []
     },
     "output_type": "display_data"
    },
    {
     "name": "stdout",
     "output_type": "stream",
     "text": [
      "----------------------------------------------------------------------------------------------------\n",
      "\n",
      "\n"
     ]
    }
   ],
   "source": [
    "for table in tables:\n",
    "    query = \"PRAGMA TABLE_INFO({})\".format(table)\n",
    "    schema = pd.read_sql_query(query,conn)\n",
    "    print(\"Schema of\",table)\n",
    "    display(schema)\n",
    "    print(\"-\"*100)\n",
    "    print(\"\\n\")"
   ]
  },
  {
   "cell_type": "markdown",
   "metadata": {
    "id": "O4Cj0Wdz23tA"
   },
   "source": [
    "## Useful tips:\n",
    "\n",
    "1. the year column in 'Movie' table, will have few chracters other than numbers which you need to be preprocessed, you need to get a substring of last 4 characters, its better if you convert it as int type, ex: CAST(SUBSTR(TRIM(m.year),-4) AS INTEGER)\n",
    "\n",
    "2. For almost all the TEXT columns we have show, please try to remove trailing spaces, you need to use TRIM() function\n",
    "\n",
    "3. When you are doing count(coulmn) it won't consider the \"NULL\" values, you might need to explore other alternatives like Count(*)"
   ]
  },
  {
   "cell_type": "markdown",
   "metadata": {
    "id": "jL9AmM3oE_IZ"
   },
   "source": [
    "## Q1 --- List all the directors who directed a 'Comedy' movie in a leap year. (You need to check that the genre is 'Comedy’ and year is a leap year) Your query should return director name, the movie name, and the year."
   ]
  },
  {
   "cell_type": "markdown",
   "metadata": {
    "id": "1jglmxDuE_Ib"
   },
   "source": [
    "<h4>To determine whether a year is a leap year, follow these steps:</h4>\n",
    "\n",
    "<ul>\n",
    "    <li><b>STEP-1:</b> If the year is evenly divisible by 4, go to step 2. Otherwise, go to step 5.</li>\n",
    "    <li><b>STEP-2:</b> If the year is evenly divisible by 100, go to step 3. Otherwise, go to step 4.</li>\n",
    "    <li><b>STEP-3:</b> If the year is evenly divisible by 400, go to step 4. Otherwise, go to step 5.</li>\n",
    "    <li><b>STEP-4:</b> The year is a leap year (it has 366 days).</li>\n",
    "    <li><b>STEP-5:</b> The year is not a leap year (it has 365 days).</li>\n",
    "</ul>\n",
    "\n",
    "Year 1900 is divisible by 4 and 100 but it is not divisible by 400, so it is not a leap year."
   ]
  },
  {
   "cell_type": "code",
   "execution_count": 8,
   "metadata": {
    "colab": {
     "base_uri": "https://localhost:8080/"
    },
    "executionInfo": {
     "elapsed": 1169,
     "status": "ok",
     "timestamp": 1609094169360,
     "user": {
      "displayName": "Mayank Jha",
      "photoUrl": "https://lh3.googleusercontent.com/a-/AOh14Gjpty0QXyoLwhO9OUkLDVtaum1Hm8sD8RKgBHUhIw=s64",
      "userId": "07909938080885789879"
     },
     "user_tz": -330
    },
    "id": "yBo_pMrH23tD",
    "outputId": "bfee267d-d5b4-453a-d9c4-738a5ab9fc72"
   },
   "outputs": [
    {
     "name": "stdout",
     "output_type": "stream",
     "text": [
      "         Director            Movie  year\n",
      "0      Amit Mitra       Jagte Raho  1956\n",
      "1    Chetan Anand         Funtoosh  1956\n",
      "2     Satyen Bose          Jagriti  1956\n",
      "3     Mohan Segal        New Delhi  1956\n",
      "4      S.U. Sunny         Kohinoor  1960\n",
      "5       Bimal Roy           Parakh  1960\n",
      "6     R.K. Nayyar    Love in Simla  1960\n",
      "7      K. Shankar         Rajkumar  1964\n",
      "8  Shakti Samanta  Kashmir Ki Kali  1964\n",
      "9   Ram Mukherjee           Leader  1964\n",
      "CPU times: user 72.6 ms, sys: 2.96 ms, total: 75.5 ms\n",
      "Wall time: 82.9 ms\n"
     ]
    }
   ],
   "source": [
    "%%time\n",
    "def grader_1(q1):\n",
    "    q1_results  = pd.read_sql_query(q1,conn)\n",
    "    print(q1_results.head(10))\n",
    "    assert (q1_results.shape == (232,3))\n",
    "\n",
    "query1 ='''Select Distinct trim(P.Name) as Director, M.title as Movie, CAST(SUBSTR(TRIM(M.year),-4) AS INT) as year From Movie M\n",
    "                        Join M_Director MD on M.MID = MD.MID\n",
    "                        Join Person P on trim(MD.PID) = P.PID\n",
    "                        Join M_Genre MG on M.MID = MG.MID\n",
    "                        Join Genre G on MG.GID = G.GID\n",
    "\n",
    "                    WHERE trim(G.Name) LIKE '%Comedy%' \n",
    "                        AND (((CAST(SUBSTR(TRIM(M.year),-4) AS INT) % 4 = 0) \n",
    "                        AND (CAST(SUBSTR(TRIM(M.year),-4) AS INT)%100 != 0)) \n",
    "                        OR (CAST(SUBSTR(TRIM(M.year),-4) AS INT)%400 = 0))\n",
    "                    ORDER BY year'''\n",
    "\n",
    "grader_1(query1)"
   ]
  },
  {
   "cell_type": "markdown",
   "metadata": {
    "id": "LHFSrIJlE_Ih"
   },
   "source": [
    "## Q2 --- List the names of all the actors who played in the movie 'Anand' (1971)"
   ]
  },
  {
   "cell_type": "code",
   "execution_count": 9,
   "metadata": {
    "colab": {
     "base_uri": "https://localhost:8080/"
    },
    "executionInfo": {
     "elapsed": 2329,
     "status": "ok",
     "timestamp": 1609094173991,
     "user": {
      "displayName": "Mayank Jha",
      "photoUrl": "https://lh3.googleusercontent.com/a-/AOh14Gjpty0QXyoLwhO9OUkLDVtaum1Hm8sD8RKgBHUhIw=s64",
      "userId": "07909938080885789879"
     },
     "user_tz": -330
    },
    "id": "5BSQOVlk23tS",
    "outputId": "2e4fc48c-5248-4952-8687-ad2bfdeb4c75"
   },
   "outputs": [
    {
     "name": "stdout",
     "output_type": "stream",
     "text": [
      "        Actor_Names\n",
      "0  Amitabh Bachchan\n",
      "1     Rajesh Khanna\n",
      "2    Brahm Bhardwaj\n",
      "3        Ramesh Deo\n",
      "4         Seema Deo\n",
      "5        Dev Kishan\n",
      "6       Durga Khote\n",
      "7     Lalita Kumari\n",
      "8      Lalita Pawar\n",
      "9      Atam Prakash\n",
      "CPU times: user 154 ms, sys: 5.23 ms, total: 159 ms\n",
      "Wall time: 176 ms\n"
     ]
    }
   ],
   "source": [
    "%%time\n",
    "def grader_2(q2):\n",
    "    q2_results  = pd.read_sql_query(q2,conn)\n",
    "    print(q2_results.head(10))\n",
    "    assert (q2_results.shape == (17,1))\n",
    "\n",
    "\n",
    "query2 ='''SELECT DISTINCT trim(P.Name) AS Actor_Names FROM Movie M\n",
    "                            Join M_Cast MC on M.MID = MC.MID\n",
    "                            Join Person P on trim(MC.PID) = P.PID\n",
    "                            WHERE M.title = 'Anand' AND M.year = 1971 '''\n",
    "\n",
    "grader_2(query2)"
   ]
  },
  {
   "cell_type": "markdown",
   "metadata": {
    "id": "bJ-mAUMmE_Il"
   },
   "source": [
    "## Q3 --- List all the actors who acted in a film before 1970 and in a film after 1990. (That is: < 1970 and > 1990.)"
   ]
  },
  {
   "cell_type": "code",
   "execution_count": 10,
   "metadata": {
    "colab": {
     "base_uri": "https://localhost:8080/"
    },
    "executionInfo": {
     "elapsed": 1508,
     "status": "ok",
     "timestamp": 1609094179774,
     "user": {
      "displayName": "Mayank Jha",
      "photoUrl": "https://lh3.googleusercontent.com/a-/AOh14Gjpty0QXyoLwhO9OUkLDVtaum1Hm8sD8RKgBHUhIw=s64",
      "userId": "07909938080885789879"
     },
     "user_tz": -330
    },
    "id": "HARXLaJ623tY",
    "outputId": "6dbecab8-2241-4b49-c897-14ba925e05db"
   },
   "outputs": [
    {
     "name": "stdout",
     "output_type": "stream",
     "text": [
      "True\n",
      "CPU times: user 404 ms, sys: 16.7 ms, total: 421 ms\n",
      "Wall time: 428 ms\n"
     ]
    }
   ],
   "source": [
    "%%time\n",
    "\n",
    "def grader_3a(query_less_1970, query_more_1990):\n",
    "    q3_a = pd.read_sql_query(query_less_1970,conn)\n",
    "    q3_b = pd.read_sql_query(query_more_1990,conn)\n",
    "    return (q3_a.shape == (4942,1)) and (q3_b.shape == (62570,1))\n",
    "\n",
    "query_less_1970 ='''SELECT trim(P.PID) as id FROM Movie M\n",
    "                            Join M_Cast MC on M.MID = MC.MID\n",
    "                            Join Person P on trim(MC.PID) = P.PID\n",
    "                            WHERE CAST(SUBSTR(M.year,-4) AS INT) < 1970 '''\n",
    "\n",
    "query_more_1990 ='''SELECT trim(P.PID) as id FROM Movie M\n",
    "                            Join M_Cast MC on M.MID = MC.MID\n",
    "                            Join Person P on trim(MC.PID) = P.PID\n",
    "                            WHERE CAST(SUBSTR(M.year,-4) AS INT) > 1990'''\n",
    "\n",
    "print(grader_3a(query_less_1970, query_more_1990))\n",
    "\n",
    "# using the above two queries, you can find the answer to the given question "
   ]
  },
  {
   "cell_type": "code",
   "execution_count": 11,
   "metadata": {
    "colab": {
     "base_uri": "https://localhost:8080/"
    },
    "executionInfo": {
     "elapsed": 1543,
     "status": "ok",
     "timestamp": 1609094203286,
     "user": {
      "displayName": "Mayank Jha",
      "photoUrl": "https://lh3.googleusercontent.com/a-/AOh14Gjpty0QXyoLwhO9OUkLDVtaum1Hm8sD8RKgBHUhIw=s64",
      "userId": "07909938080885789879"
     },
     "user_tz": -330
    },
    "id": "sbzv0UZZ23td",
    "outputId": "5ba552ea-2224-41ac-f9a1-d0316c1d954b"
   },
   "outputs": [
    {
     "name": "stdout",
     "output_type": "stream",
     "text": [
      "                  Name\n",
      "0     Amitabh Bachchan\n",
      "1   Mohandas K. Gandhi\n",
      "2                Rekha\n",
      "3           Dharmendra\n",
      "4    Prithviraj Kapoor\n",
      "5        Shammi Kapoor\n",
      "6        Shashi Kapoor\n",
      "7        Rajesh Khanna\n",
      "8          Hema Malini\n",
      "9          Sanjay Dutt\n",
      "CPU times: user 430 ms, sys: 11.7 ms, total: 441 ms\n",
      "Wall time: 447 ms\n"
     ]
    }
   ],
   "source": [
    "%%time\n",
    "def grader_3(q3):\n",
    "    q3_results  = pd.read_sql_query(q3,conn)\n",
    "    print(q3_results.head(10))\n",
    "    assert (q3_results.shape == (300,1))\n",
    "\n",
    "query3 = \"\"\" SELECT DISTINCT p.Name FROM Movie m\n",
    "                 JOIN M_Cast mc ON m.MID = mc.MID\n",
    "                 JOIN Person p ON trim(mc.PID) = p.PID\n",
    "                 WHERE CAST(SUBSTR(m.year,-4) AS INT) < 1970\n",
    "              AND trim(p.PID) IN \n",
    "                  (SELECT DISTINCT trim(p.PID) as pid FROM Movie m\n",
    "                        JOIN M_Cast mc ON m.MID = mc.MID\n",
    "                        JOIN Person p ON trim(mc.PID) = p.PID\n",
    "                        WHERE CAST(SUBSTR(m.year,-4) AS INT) > 1990)\n",
    "              GROUP BY trim(p.PID)\n",
    "         \"\"\"\n",
    "grader_3(query3)"
   ]
  },
  {
   "cell_type": "markdown",
   "metadata": {
    "id": "wd3tqFxaE_Ir"
   },
   "source": [
    "## Q4 --- List all directors who directed 10 movies or more, in descending order of the number of movies they directed. Return the directors' names and the number of movies each of them directed."
   ]
  },
  {
   "cell_type": "code",
   "execution_count": 12,
   "metadata": {
    "colab": {
     "base_uri": "https://localhost:8080/"
    },
    "executionInfo": {
     "elapsed": 1102,
     "status": "ok",
     "timestamp": 1609094212013,
     "user": {
      "displayName": "Mayank Jha",
      "photoUrl": "https://lh3.googleusercontent.com/a-/AOh14Gjpty0QXyoLwhO9OUkLDVtaum1Hm8sD8RKgBHUhIw=s64",
      "userId": "07909938080885789879"
     },
     "user_tz": -330
    },
    "id": "aGgqAYk723th",
    "outputId": "4a2c159f-5e72-4956-e404-621c26d0ed90"
   },
   "outputs": [
    {
     "name": "stdout",
     "output_type": "stream",
     "text": [
      "  Director_ID  Movie_Count\n",
      "0   nm0000180            1\n",
      "1   nm0000187            1\n",
      "2   nm0000229            1\n",
      "3   nm0000269            1\n",
      "4   nm0000386            1\n",
      "5   nm0000487            2\n",
      "6   nm0000965            1\n",
      "7   nm0001060            1\n",
      "8   nm0001162            1\n",
      "9   nm0001241            1\n",
      "True\n",
      "CPU times: user 61.2 ms, sys: 699 µs, total: 61.9 ms\n",
      "Wall time: 67.8 ms\n"
     ]
    }
   ],
   "source": [
    "%%time\n",
    "\n",
    "def grader_4a(query_4a):\n",
    "    query_4a = pd.read_sql_query(query_4a,conn)\n",
    "    print(query_4a.head(10)) \n",
    "    return (query_4a.shape == (1462,2))\n",
    "\n",
    "query_4a =''' SELECT DISTINCT trim(md.PID) AS Director_ID, COUNT(md.PID) AS Movie_Count FROM M_Director md\n",
    "                              JOIN Person p on trim(md.PID) = p.PID\n",
    "                              GROUP BY trim(MD.PID) '''\n",
    "print(grader_4a(query_4a))\n",
    "\n",
    "# using the above query, you can write the answer to the given question"
   ]
  },
  {
   "cell_type": "code",
   "execution_count": 13,
   "metadata": {
    "colab": {
     "base_uri": "https://localhost:8080/"
    },
    "executionInfo": {
     "elapsed": 1195,
     "status": "ok",
     "timestamp": 1609094214492,
     "user": {
      "displayName": "Mayank Jha",
      "photoUrl": "https://lh3.googleusercontent.com/a-/AOh14Gjpty0QXyoLwhO9OUkLDVtaum1Hm8sD8RKgBHUhIw=s64",
      "userId": "07909938080885789879"
     },
     "user_tz": -330
    },
    "id": "xROoSzcF23tn",
    "outputId": "d227e2dc-186b-49a7-8b35-11ea734548b6"
   },
   "outputs": [
    {
     "name": "stdout",
     "output_type": "stream",
     "text": [
      "          Director_Name  Movie_Count\n",
      "0          David Dhawan           39\n",
      "1          Mahesh Bhatt           35\n",
      "2          Priyadarshan           30\n",
      "3       Ram Gopal Varma           30\n",
      "4          Vikram Bhatt           29\n",
      "5  Hrishikesh Mukherjee           27\n",
      "6           Yash Chopra           21\n",
      "7       Basu Chatterjee           19\n",
      "8        Shakti Samanta           19\n",
      "9          Subhash Ghai           18\n",
      "CPU times: user 65.2 ms, sys: 0 ns, total: 65.2 ms\n",
      "Wall time: 72.5 ms\n"
     ]
    }
   ],
   "source": [
    "%%time\n",
    "def grader_4(q4):\n",
    "    q4_results  = pd.read_sql_query(q4,conn)\n",
    "    print(q4_results.head(10))\n",
    "    assert (q4_results.shape == (58,2))\n",
    "\n",
    "query4 = '''SELECT DISTINCT trim(p.Name) AS Director_Name, COUNT(md.PID) AS Movie_Count FROM M_Director md\n",
    "                              JOIN Person p on trim(md.PID) = p.PID\n",
    "                              GROUP BY trim(md.PID) HAVING Movie_Count>=10 ORDER BY Movie_Count DESC'''\n",
    "grader_4(query4)"
   ]
  },
  {
   "cell_type": "markdown",
   "metadata": {
    "id": "OnulNpiOE_Iw"
   },
   "source": [
    "## Q5.a --- For each year, count the number of movies in that year that had only female actors."
   ]
  },
  {
   "cell_type": "code",
   "execution_count": 14,
   "metadata": {
    "colab": {
     "base_uri": "https://localhost:8080/"
    },
    "executionInfo": {
     "elapsed": 1376,
     "status": "ok",
     "timestamp": 1609094220046,
     "user": {
      "displayName": "Mayank Jha",
      "photoUrl": "https://lh3.googleusercontent.com/a-/AOh14Gjpty0QXyoLwhO9OUkLDVtaum1Hm8sD8RKgBHUhIw=s64",
      "userId": "07909938080885789879"
     },
     "user_tz": -330
    },
    "id": "ES-gGiNG23tr",
    "outputId": "4d3f3aee-f467-4e34-ee01-302959c7348c"
   },
   "outputs": [
    {
     "name": "stdout",
     "output_type": "stream",
     "text": [
      "         MID  Gender  COUNT(1)\n",
      "0  tt0021594    None         1\n",
      "1  tt0021594  Female         3\n",
      "2  tt0021594    Male         5\n",
      "3  tt0026274    None         2\n",
      "4  tt0026274  Female        11\n",
      "5  tt0026274    Male         9\n",
      "6  tt0027256    None         2\n",
      "7  tt0027256  Female         5\n",
      "8  tt0027256    Male         8\n",
      "9  tt0028217  Female         3\n",
      "True\n",
      "         MID Gender  COUNT(1)\n",
      "0  tt0021594   Male         5\n",
      "1  tt0026274   Male         9\n",
      "2  tt0027256   Male         8\n",
      "3  tt0028217   Male         7\n",
      "4  tt0031580   Male        27\n",
      "5  tt0033616   Male        46\n",
      "6  tt0036077   Male        11\n",
      "7  tt0038491   Male         7\n",
      "8  tt0039654   Male         6\n",
      "9  tt0040067   Male        10\n",
      "True\n",
      "CPU times: user 339 ms, sys: 5.41 ms, total: 344 ms\n",
      "Wall time: 346 ms\n"
     ]
    }
   ],
   "source": [
    "%%time\n",
    "\n",
    "# note that you don't need TRIM for person table\n",
    "\n",
    "def grader_5aa(query_5aa):\n",
    "    query_5aa = pd.read_sql_query(query_5aa,conn)\n",
    "    print(query_5aa.head(10)) \n",
    "    return (query_5aa.shape == (8846,3))\n",
    "\n",
    "query_5aa =''' SELECT mc.MID, p.Gender, COUNT(1) FROM M_Cast mc\n",
    "                            JOIN Person p on trim(mc.PID) = p.PID\n",
    "                            GROUP BY mc.MID, p.Gender '''\n",
    "\n",
    "print(grader_5aa(query_5aa))\n",
    "\n",
    "def grader_5ab(query_5ab):\n",
    "    query_5ab = pd.read_sql_query(query_5ab,conn)\n",
    "    print(query_5ab.head(10)) \n",
    "    return (query_5ab.shape == (3469, 3))\n",
    "\n",
    "query_5ab =''' SELECT Distinct mc.MID, p.Gender, COUNT(1) FROM M_Cast mc\n",
    "                            JOIN Person p on trim(mc.PID) = p.PID\n",
    "                            WHERE (p.Gender = 'Male')\n",
    "                            GROUP BY mc.MID, p.Gender '''\n",
    "\n",
    "\n",
    "print(grader_5ab(query_5ab))\n",
    "\n",
    "\n",
    "# using the above queries, you can write the answer to the given question"
   ]
  },
  {
   "cell_type": "code",
   "execution_count": 15,
   "metadata": {
    "colab": {
     "base_uri": "https://localhost:8080/"
    },
    "executionInfo": {
     "elapsed": 1107,
     "status": "ok",
     "timestamp": 1609094223728,
     "user": {
      "displayName": "Mayank Jha",
      "photoUrl": "https://lh3.googleusercontent.com/a-/AOh14Gjpty0QXyoLwhO9OUkLDVtaum1Hm8sD8RKgBHUhIw=s64",
      "userId": "07909938080885789879"
     },
     "user_tz": -330
    },
    "id": "zQOIawPME_Ix",
    "outputId": "a2c747b2-7197-42e4-9a35-c28b4547ed55"
   },
   "outputs": [
    {
     "name": "stdout",
     "output_type": "stream",
     "text": [
      "   YEAR  Female_Cast_Only_Movies\n",
      "0  1939                        1\n",
      "1  1999                        1\n",
      "2  2000                        1\n",
      "3  2018                        1\n",
      "CPU times: user 146 ms, sys: 200 µs, total: 146 ms\n",
      "Wall time: 152 ms\n"
     ]
    }
   ],
   "source": [
    "%%time\n",
    "def grader_5a(q5a):\n",
    "    q5a_results  = pd.read_sql_query(q5a,conn)\n",
    "    print(q5a_results.head(10))\n",
    "    assert (q5a_results.shape == (4,2))\n",
    "\n",
    "query5a ='''SELECT CAST(SUBSTR(TRIM(m.year),-4) AS INT) AS YEAR, COUNT(m.year) AS Female_Cast_Only_Movies FROM Movie m\n",
    "                            WHERE m.MID NOT IN \n",
    "                            (SELECT mc.MID FROM M_Cast mc\n",
    "                            JOIN Person p on trim(mc.PID) = p.PID\n",
    "                            Where p.Gender = 'Male')\n",
    "                            GROUP BY YEAR\n",
    "                            ORDER BY Female_Cast_Only_Movies'''\n",
    "\n",
    "grader_5a(query5a)"
   ]
  },
  {
   "cell_type": "markdown",
   "metadata": {
    "id": "cTiKejUfE_I1"
   },
   "source": [
    "## Q5.b --- Now include a small change: report for each year the percentage of movies in that year with only female actors, and the total number of movies made that year. For example, one answer will be: 1990 31.81 13522 meaning that in 1990 there were 13,522 movies, and 31.81% had only female actors. You do not need to round your answer."
   ]
  },
  {
   "cell_type": "code",
   "execution_count": 16,
   "metadata": {
    "colab": {
     "base_uri": "https://localhost:8080/"
    },
    "executionInfo": {
     "elapsed": 1393,
     "status": "ok",
     "timestamp": 1609094229357,
     "user": {
      "displayName": "Mayank Jha",
      "photoUrl": "https://lh3.googleusercontent.com/a-/AOh14Gjpty0QXyoLwhO9OUkLDVtaum1Hm8sD8RKgBHUhIw=s64",
      "userId": "07909938080885789879"
     },
     "user_tz": -330
    },
    "id": "Xv6iXvcZE_I2",
    "outputId": "57027738-f6cc-4323-a2f7-4d4f2f78a93a"
   },
   "outputs": [
    {
     "name": "stdout",
     "output_type": "stream",
     "text": [
      "   YEAR  Percentage_Female_Only_Movie  TOTAL_MOVIES\n",
      "0  1939                      0.500000             2\n",
      "1  1999                      0.015152            66\n",
      "2  2000                      0.015625            64\n",
      "3  2018                      0.009615           104\n",
      "CPU times: user 147 ms, sys: 3.49 ms, total: 151 ms\n",
      "Wall time: 153 ms\n"
     ]
    }
   ],
   "source": [
    "# https://stackoverflow.com/questions/11719044/how-to-get-a-float-result-by-dividing-two-integer-values-using-t-sql\n",
    "\n",
    "%%time\n",
    "def grader_5b(q5b):\n",
    "    q5b_results  = pd.read_sql_query(q5b,conn)\n",
    "    print(q5b_results.head(10))\n",
    "    assert (q5b_results.shape == (4,3))\n",
    "\n",
    "query5b = '''SELECT yr_female.YEAR, cast(Female_Cast_Only_Movies AS float)/cast(TOTAL_MOVIES AS float) AS Percentage_Female_Only_Movie, TOTAL_MOVIES \n",
    "                            FROM (\n",
    "                              SELECT CAST(SUBSTR(TRIM(m.year),-4) AS INT) AS YEAR, cast(COUNT(m.year) as INT) AS Female_Cast_Only_Movies FROM Movie m\n",
    "                              WHERE m.MID NOT IN (\n",
    "                                SELECT mc.MID FROM M_Cast mc\n",
    "                                JOIN Person p on trim(mc.PID) = p.PID\n",
    "                                Where p.Gender = 'Male'\n",
    "                                )\n",
    "                                GROUP BY YEAR\n",
    "                                ) yr_female\n",
    "                              JOIN\n",
    "                                (\n",
    "                                  Select CAST(SUBSTR(year,-4) AS INT) AS YEAR, COUNT(TRIM(MID)) TOTAL_MOVIES FROM Movie \n",
    "                                  GROUP BY CAST(SUBSTR(year,-4) AS INT) \n",
    "                                ) total_movie\n",
    "                              ON total_movie.YEAR = yr_female.YEAR\n",
    "                              '''\n",
    "grader_5b(query5b)"
   ]
  },
  {
   "cell_type": "markdown",
   "metadata": {
    "id": "d5mvJcHDE_I6"
   },
   "source": [
    "## Q6 --- Find the film(s) with the largest cast. Return the movie title and the size of the cast. By \"cast size\" we mean the number of distinct actors that played in that movie: if an actor played multiple roles, or if it simply occurs multiple times in casts, we still count her/him only once."
   ]
  },
  {
   "cell_type": "code",
   "execution_count": 17,
   "metadata": {
    "colab": {
     "base_uri": "https://localhost:8080/"
    },
    "executionInfo": {
     "elapsed": 1103,
     "status": "ok",
     "timestamp": 1609094233804,
     "user": {
      "displayName": "Mayank Jha",
      "photoUrl": "https://lh3.googleusercontent.com/a-/AOh14Gjpty0QXyoLwhO9OUkLDVtaum1Hm8sD8RKgBHUhIw=s64",
      "userId": "07909938080885789879"
     },
     "user_tz": -330
    },
    "id": "vpr9gGg6E_I7",
    "outputId": "660f6f9d-d0b3-41e7-a2cf-b5996abc385a"
   },
   "outputs": [
    {
     "name": "stdout",
     "output_type": "stream",
     "text": [
      "                        Title  Cast_Count\n",
      "0               Ocean's Eight         238\n",
      "1                    Apaharan         233\n",
      "2                        Gold         215\n",
      "3             My Name Is Khan         213\n",
      "4  Captain America: Civil War         191\n",
      "5                    Geostorm         170\n",
      "6                     Striker         165\n",
      "7                        2012         154\n",
      "8                      Pixels         144\n",
      "9       Yamla Pagla Deewana 2         140\n",
      "CPU times: user 161 ms, sys: 15.9 ms, total: 177 ms\n",
      "Wall time: 179 ms\n"
     ]
    }
   ],
   "source": [
    "%%time\n",
    "def grader_6(q6):\n",
    "    q6_results  = pd.read_sql_query(q6,conn)\n",
    "    print(q6_results.head(10))\n",
    "    assert (q6_results.shape == (3473, 2))\n",
    "\n",
    "query6 = ''' SELECT m.title as Title, COUNT(mc.PID) AS Cast_Count FROM MOVIE m\n",
    "                                JOIN M_Cast mc on M.MID = mc.MID\n",
    "                                GROUP BY mc.MID ORDER BY Cast_Count DESC '''\n",
    "grader_6(query6)"
   ]
  },
  {
   "cell_type": "markdown",
   "metadata": {
    "id": "I9CKkrWYE_I_"
   },
   "source": [
    "### Q7 --- A decade is a sequence of 10 consecutive years. \n",
    "### For example, say in your database you have movie information starting from 1931. \n",
    "### the first decade is 1931, 1932, ..., 1940,\n",
    "### the second decade is 1932, 1933, ..., 1941 and so on. \n",
    "### Find the decade D with the largest number of films and the total number of films in D."
   ]
  },
  {
   "cell_type": "code",
   "execution_count": 18,
   "metadata": {
    "colab": {
     "base_uri": "https://localhost:8080/"
    },
    "executionInfo": {
     "elapsed": 831,
     "status": "ok",
     "timestamp": 1609094238420,
     "user": {
      "displayName": "Mayank Jha",
      "photoUrl": "https://lh3.googleusercontent.com/a-/AOh14Gjpty0QXyoLwhO9OUkLDVtaum1Hm8sD8RKgBHUhIw=s64",
      "userId": "07909938080885789879"
     },
     "user_tz": -330
    },
    "id": "ZfOWt8IW23uE",
    "outputId": "62e5133f-4e17-48df-d076-fff1091cf2fd"
   },
   "outputs": [
    {
     "name": "stdout",
     "output_type": "stream",
     "text": [
      "   YEAR  TOTAL_MOVIES\n",
      "0  1931             1\n",
      "1  1936             3\n",
      "2  1939             2\n",
      "3  1941             1\n",
      "4  1943             1\n",
      "5  1946             2\n",
      "6  1947             2\n",
      "7  1948             3\n",
      "8  1949             3\n",
      "9  1950             2\n",
      "CPU times: user 10.1 ms, sys: 1.14 ms, total: 11.2 ms\n",
      "Wall time: 15.8 ms\n"
     ]
    }
   ],
   "source": [
    "# https://stackoverflow.com/questions/51609285/query-for-find-the-decade-with-the-largest-number-of-records\n",
    "\n",
    "%%time\n",
    "def grader_7a(q7a):\n",
    "    q7a_results  = pd.read_sql_query(q7a,conn)\n",
    "    print(q7a_results.head(10))\n",
    "    assert (q7a_results.shape == (78, 2))\n",
    "\n",
    "query7a = \"\"\" Select CAST(SUBSTR(year,-4) AS INT) AS YEAR, COUNT(TRIM(MID)) TOTAL_MOVIES FROM Movie \n",
    "                GROUP BY CAST(SUBSTR(year,-4) AS INT) ORDER BY YEAR \"\"\"\n",
    "grader_7a(query7a)\n",
    "\n",
    "# using the above query, you can write the answer to the given question"
   ]
  },
  {
   "cell_type": "code",
   "execution_count": 19,
   "metadata": {
    "colab": {
     "base_uri": "https://localhost:8080/"
    },
    "executionInfo": {
     "elapsed": 1104,
     "status": "ok",
     "timestamp": 1609094243320,
     "user": {
      "displayName": "Mayank Jha",
      "photoUrl": "https://lh3.googleusercontent.com/a-/AOh14Gjpty0QXyoLwhO9OUkLDVtaum1Hm8sD8RKgBHUhIw=s64",
      "userId": "07909938080885789879"
     },
     "user_tz": -330
    },
    "id": "sBMzLrIY23uJ",
    "outputId": "62ff1307-2c30-4dd0-c9e2-6c9c1bb3c62b"
   },
   "outputs": [
    {
     "name": "stdout",
     "output_type": "stream",
     "text": [
      "   Movie_Year  Total_Movies  Movie_Year  Total_Movies\n",
      "0        1931             1        1931             1\n",
      "1        1931             1        1936             3\n",
      "2        1931             1        1939             2\n",
      "3        1936             3        1936             3\n",
      "4        1936             3        1939             2\n",
      "5        1936             3        1941             1\n",
      "6        1936             3        1943             1\n",
      "7        1939             2        1939             2\n",
      "8        1939             2        1941             1\n",
      "9        1939             2        1943             1\n",
      "CPU times: user 17.6 ms, sys: 0 ns, total: 17.6 ms\n",
      "Wall time: 20.2 ms\n"
     ]
    }
   ],
   "source": [
    "%%time\n",
    "def grader_7b(q7b):\n",
    "    q7b_results  = pd.read_sql_query(q7b,conn)\n",
    "    print(q7b_results.head(10))\n",
    "    assert (q7b_results.shape == (713, 4))\n",
    "\n",
    "query7b = \"\"\"\n",
    "    SELECT t1.YEAR AS Movie_Year, t1.TOTAL_MOVIES AS Total_Movies, t2.YEAR AS Movie_Year, t2.TOTAL_MOVIES AS Total_Movies\n",
    "      FROM \n",
    "        (Select CAST(SUBSTR(year,-4) AS INT) AS YEAR, COUNT(TRIM(MID)) TOTAL_MOVIES FROM Movie GROUP BY CAST(SUBSTR(year,-4) AS INT) ORDER BY YEAR) t1\n",
    "        JOIN\n",
    "        (Select CAST(SUBSTR(year,-4) AS INT) AS YEAR, COUNT(TRIM(MID)) TOTAL_MOVIES FROM Movie GROUP BY CAST(SUBSTR(year,-4) AS INT) ORDER BY YEAR)  t2\n",
    "        \n",
    "        ON t1.YEAR <= (t2.YEAR+9) AND t2.YEAR <= (t1.YEAR+9) AND t2.YEAR >= t1.YEAR\n",
    "          \"\"\"\n",
    "grader_7b(query7b)\n",
    "# if you see the below results the first movie year is less than 2nd movie year and \n",
    "# 2nd movie year is less or equal to the first movie year+9\n",
    "\n",
    "# using the above query, you can write the answer to the given question"
   ]
  },
  {
   "cell_type": "code",
   "execution_count": 20,
   "metadata": {
    "colab": {
     "base_uri": "https://localhost:8080/"
    },
    "executionInfo": {
     "elapsed": 1247,
     "status": "ok",
     "timestamp": 1609094248423,
     "user": {
      "displayName": "Mayank Jha",
      "photoUrl": "https://lh3.googleusercontent.com/a-/AOh14Gjpty0QXyoLwhO9OUkLDVtaum1Hm8sD8RKgBHUhIw=s64",
      "userId": "07909938080885789879"
     },
     "user_tz": -330
    },
    "id": "NKqbguuqE_JA",
    "outputId": "24fa588b-257a-4879-cfcc-ac7c473edfcb"
   },
   "outputs": [
    {
     "name": "stdout",
     "output_type": "stream",
     "text": [
      "   Decade_Movie_Count Decade_Start\n",
      "0                1203         2008\n",
      "CPU times: user 122 ms, sys: 0 ns, total: 122 ms\n",
      "Wall time: 129 ms\n"
     ]
    }
   ],
   "source": [
    "# https://stackoverflow.com/questions/51609285/query-for-find-the-decade-with-the-largest-number-of-records\n",
    "\n",
    "%%time\n",
    "def grader_7(q7):\n",
    "    q7_results  = pd.read_sql_query(q7,conn)\n",
    "    print(q7_results.head(10))\n",
    "    assert (q7_results.shape == (1, 2))\n",
    "\n",
    "query7 = \"\"\" SELECT COUNT(TRIM(MID)) as Decade_Movie_Count, t.year as Decade_Start\n",
    "              FROM \n",
    "              (SELECT DISTINCT year from Movie) t \n",
    "                  JOIN Movie m\n",
    "                    on CAST(SUBSTR(m.year,-4) AS INT) >= t.year and CAST(SUBSTR(m.year,-4) AS INT) <= t.year + 9\n",
    "                    GROUP BY t.year\n",
    "                    ORDER BY COUNT(TRIM(MID)) DESC\n",
    "                    limit 1\"\"\"\n",
    "\n",
    "grader_7(query7)\n",
    "# if you check the output we are printinng all the year in that decade, its fine you can print 2008 or 2008-2017"
   ]
  },
  {
   "cell_type": "markdown",
   "metadata": {
    "id": "6NP-GyTaE_JF"
   },
   "source": [
    "## Q8 --- Find all the actors that made more movies with Yash Chopra than any other director."
   ]
  },
  {
   "cell_type": "code",
   "execution_count": 21,
   "metadata": {
    "colab": {
     "base_uri": "https://localhost:8080/"
    },
    "executionInfo": {
     "elapsed": 1095,
     "status": "ok",
     "timestamp": 1609094252302,
     "user": {
      "displayName": "Mayank Jha",
      "photoUrl": "https://lh3.googleusercontent.com/a-/AOh14Gjpty0QXyoLwhO9OUkLDVtaum1Hm8sD8RKgBHUhIw=s64",
      "userId": "07909938080885789879"
     },
     "user_tz": -330
    },
    "id": "DZJ7WMrk23uR",
    "outputId": "9de377bc-658a-45e2-ac82-27abd3d4f079"
   },
   "outputs": [
    {
     "name": "stdout",
     "output_type": "stream",
     "text": [
      "      cast_id director_id  movies_count\n",
      "0   nm0000002   nm0496746             1\n",
      "1   nm0000027   nm0000180             1\n",
      "2   nm0000039   nm0896533             1\n",
      "3   nm0000042   nm0896533             1\n",
      "4   nm0000047   nm0004292             1\n",
      "5   nm0000073   nm0485943             1\n",
      "6   nm0000076   nm0000229             1\n",
      "7   nm0000092   nm0178997             1\n",
      "8   nm0000093   nm0000269             1\n",
      "9   nm0000096   nm0113819             1\n",
      "CPU times: user 327 ms, sys: 15.2 ms, total: 342 ms\n",
      "Wall time: 344 ms\n"
     ]
    }
   ],
   "source": [
    "%%time\n",
    "def grader_8a(q8a):\n",
    "    q8a_results  = pd.read_sql_query(q8a,conn)\n",
    "    print(q8a_results.head(10))\n",
    "    assert (q8a_results.shape == (73408, 3))\n",
    "\n",
    "# Refer--> https://stackoverflow.com/questions/57743908/sql-query-to-find-an-actors-who-did-more-films-with-quentin-tarantino\n",
    "\n",
    "query8a = \"\"\" SELECT cast_id, director_id, movies_count FROM\n",
    "                  (SELECT md.PID director_id, mc.PID cast_id, COUNT(*) movies_count FROM M_Director md \n",
    "                  JOIN M_Cast mc ON md.MID = mc.MID \n",
    "                  GROUP BY cast_id, director_id) \"\"\"\n",
    "grader_8a(query8a)\n",
    "\n",
    "# using the above query, you can write the answer to the given question"
   ]
  },
  {
   "cell_type": "markdown",
   "metadata": {
    "id": "hpAl0_fHYYV2"
   },
   "source": [
    "### Pseudo Code:\n",
    "\n",
    "    select the names of actors and movie_count\n",
    "              (select actor_pid,direct_pid,movie_count from\n",
    "               \n",
    "                (select actor_pid, dicrector_pid, movie_count and grouping by actor_pid, dicrector_pid)-> 8a\n",
    "               \n",
    "              where (actor_pid, movie_count) in\n",
    "             \n",
    "                (select actor_pid,max(movie_count) from\n",
    "                    (select actor_pid, dicrector_pid, movie_count and grouping by actor_pid, dicrector_pid)-> 8a\n",
    "                    group by actor_pid)\n",
    "              and director is yash)  \n"
   ]
  },
  {
   "cell_type": "code",
   "execution_count": 22,
   "metadata": {
    "colab": {
     "base_uri": "https://localhost:8080/"
    },
    "executionInfo": {
     "elapsed": 3553,
     "status": "ok",
     "timestamp": 1609094259869,
     "user": {
      "displayName": "Mayank Jha",
      "photoUrl": "https://lh3.googleusercontent.com/a-/AOh14Gjpty0QXyoLwhO9OUkLDVtaum1Hm8sD8RKgBHUhIw=s64",
      "userId": "07909938080885789879"
     },
     "user_tz": -330
    },
    "id": "SYMTcHixE_JH",
    "outputId": "b5fff594-5678-47ab-c879-bb789cc1442a"
   },
   "outputs": [
    {
     "name": "stdout",
     "output_type": "stream",
     "text": [
      "                Name  movies_count\n",
      "0        Jagdish Raj            11\n",
      "1   Manmohan Krishna            10\n",
      "2           Iftekhar             9\n",
      "3      Shashi Kapoor             7\n",
      "4      Rakhee Gulzar             5\n",
      "5     Waheeda Rehman             5\n",
      "6           Ravikant             4\n",
      "7     Achala Sachdev             4\n",
      "8        Neetu Singh             4\n",
      "9      Leela Chitnis             3\n",
      "(245, 2)\n",
      "CPU times: user 2.14 s, sys: 11.6 ms, total: 2.15 s\n",
      "Wall time: 2.16 s\n"
     ]
    }
   ],
   "source": [
    "%%time\n",
    "\n",
    "def grader_8(q8):\n",
    "    q8_results  = pd.read_sql_query(q8,conn)\n",
    "    print(q8_results.head(10))\n",
    "    print(q8_results.shape)\n",
    "    assert (q8_results.shape == (245, 2))\n",
    "\n",
    "query8 = \"\"\" SELECT p.Name, a.movies_count FROM Person p,\n",
    "                (SELECT cast_id, director_id, movies_count FROM\n",
    "                  (SELECT md.PID director_id, mc.PID cast_id, COUNT(*) movies_count FROM M_Director md \n",
    "                  JOIN M_Cast mc ON md.MID = mc.MID \n",
    "                  GROUP BY cast_id, director_id)\n",
    "                  WHERE (cast_id, movies_count) IN \n",
    "                      (SELECT cast_id, max(movies_count) FROM\n",
    "                          (SELECT md.PID director_id, mc.PID cast_id, Count(*) movies_count FROM M_Director md \n",
    "                          JOIN M_Cast mc ON md.MID = mc.MID \n",
    "                          GROUP BY cast_id, director_id) \n",
    "                          GROUP BY Cast_id)\n",
    "                    AND TRIM(director_id) = 'nm0007181') a\n",
    "                    WHERE TRIM(a.cast_id) = TRIM(p.PID) ORDER BY movies_count DESC \"\"\"\n",
    "\n",
    "grader_8(query8)"
   ]
  },
  {
   "cell_type": "markdown",
   "metadata": {
    "id": "VHwJ75_qE_JQ"
   },
   "source": [
    "## Q9 --- The Shahrukh number of an actor is the length of the shortest path between the actor and Shahrukh Khan in the \"co-acting\" graph. That is, Shahrukh Khan has Shahrukh number 0; all actors who acted in the same film as Shahrukh have Shahrukh number 1; all actors who acted in the same film as some actor with Shahrukh number 1 have Shahrukh number 2, etc. Return all actors whose Shahrukh number is 2."
   ]
  },
  {
   "cell_type": "markdown",
   "metadata": {
    "id": "yBui_oMwYYV3"
   },
   "source": [
    "<img src = 'https://mail.google.com/mail/u/0?ui=2&ik=4c6e313f68&attid=0.1&permmsgid=msg-f:1687069395112113920&th=1769acad27173700&view=fimg&sz=s0-l75-ft&attbid=ANGjdJ9XzKau2f1jB3GvLyT8f2Co1P6VJbexhAhGHtvbIGZSwMkesV4I7KaNLqc5oTfSS2QR56ekYrtoTRENm6Ef-I230tN6qwQsDiroGfKB25KK8CqM7KFS9BImPCs&disp=emb&realattid=ii_kfqlznll0'>\n",
    "\n",
    "ref: https://mail.google.com/mail/u/0?ui=2&ik=4c6e313f68&attid=0.1&permmsgid=msg-f:1687069395112113920&th=1769acad27173700&view=fimg&sz=s0-l75-ft&attbid=ANGjdJ9XzKau2f1jB3GvLyT8f2Co1P6VJbexhAhGHtvbIGZSwMkesV4I7KaNLqc5oTfSS2QR56ekYrtoTRENm6Ef-I230tN6qwQsDiroGfKB25KK8CqM7KFS9BImPCs&disp=emb&realattid=ii_kfqlznll0"
   ]
  },
  {
   "cell_type": "code",
   "execution_count": 23,
   "metadata": {
    "colab": {
     "base_uri": "https://localhost:8080/"
    },
    "executionInfo": {
     "elapsed": 1076,
     "status": "ok",
     "timestamp": 1609094265883,
     "user": {
      "displayName": "Mayank Jha",
      "photoUrl": "https://lh3.googleusercontent.com/a-/AOh14Gjpty0QXyoLwhO9OUkLDVtaum1Hm8sD8RKgBHUhIw=s64",
      "userId": "07909938080885789879"
     },
     "user_tz": -330
    },
    "id": "3FnJ_19z23ub",
    "outputId": "e85455e6-9ed7-469f-edbf-113081beadd8"
   },
   "outputs": [
    {
     "name": "stdout",
     "output_type": "stream",
     "text": [
      "      S1_PID\n",
      "0  nm0000818\n",
      "1  nm0000821\n",
      "2  nm0001934\n",
      "3  nm0002043\n",
      "4  nm0004109\n",
      "5  nm0004334\n",
      "6  nm0004335\n",
      "7  nm0004363\n",
      "8  nm0004418\n",
      "9  nm0004429\n",
      "(2382, 1)\n",
      "CPU times: user 101 ms, sys: 10 ms, total: 111 ms\n",
      "Wall time: 117 ms\n"
     ]
    }
   ],
   "source": [
    "%%time\n",
    "def grader_9a(q9a):\n",
    "    q9a_results  = pd.read_sql_query(q9a,conn)\n",
    "    print(q9a_results.head(10))\n",
    "    print(q9a_results.shape)\n",
    "    assert (q9a_results.shape == (2382, 1))\n",
    "\n",
    "query9a = \"\"\" SELECT DISTINCT TRIM(PID) AS S1_PID FROM M_Cast WHERE TRIM(PID) IN \n",
    "                (SELECT DISTINCT TRIM(PID) FROM M_Cast WHERE TRIM(MID) IN \n",
    "                   (SELECT DISTINCT TRIM(MID) FROM M_Cast WHERE TRIM(PID) IN\n",
    "                      (SELECT TRIM(PID) FROM Person WHERE TRIM(Name) Like '%Shah Rukh Khan%')))\n",
    "                   AND TRIM(PID) NOT IN \n",
    "                      (SELECT TRIM(PID) FROM Person WHERE TRIM(Name) Like '%Shah Rukh Khan%')\n",
    "                      ORDER BY TRIM(PID)\n",
    "                    \"\"\"\n",
    "grader_9a(query9a)\n",
    "# using the above query, you can write the answer to the given question\n",
    "\n",
    "# selecting actors who acted with srk (S1)\n",
    "# selecting all movies where S1 actors acted, this forms S2 movies list\n",
    "# selecting all actors who acted in S2 movies, this gives us S2 actors along with S1 actors\n",
    "# removing S1 actors from the combined list of S1 & S2 actors, so that we get only S2 actors"
   ]
  },
  {
   "cell_type": "code",
   "execution_count": 24,
   "metadata": {
    "colab": {
     "base_uri": "https://localhost:8080/"
    },
    "executionInfo": {
     "elapsed": 1112,
     "status": "ok",
     "timestamp": 1609094271209,
     "user": {
      "displayName": "Mayank Jha",
      "photoUrl": "https://lh3.googleusercontent.com/a-/AOh14Gjpty0QXyoLwhO9OUkLDVtaum1Hm8sD8RKgBHUhIw=s64",
      "userId": "07909938080885789879"
     },
     "user_tz": -330
    },
    "id": "5o6imc82E_JS",
    "outputId": "8fa034e0-952b-4fe1-95a1-99b93303b71f"
   },
   "outputs": [
    {
     "name": "stdout",
     "output_type": "stream",
     "text": [
      "              Actor_Names\n",
      "0            Freida Pinto\n",
      "1             Rohan Chand\n",
      "2            Damian Young\n",
      "3         Waris Ahluwalia\n",
      "4   Caroline Christl Long\n",
      "5           Rajeev Pahuja\n",
      "6       Michelle Santiago\n",
      "7         Alicia Vikander\n",
      "8            Dominic West\n",
      "9          Walton Goggins\n",
      "(25698, 1)\n",
      "CPU times: user 294 ms, sys: 12.6 ms, total: 307 ms\n",
      "Wall time: 316 ms\n"
     ]
    }
   ],
   "source": [
    "%%time\n",
    "def grader_9(q9):\n",
    "    q9_results  = pd.read_sql_query(q9,conn)\n",
    "    print(q9_results.head(10))\n",
    "    print(q9_results.shape)\n",
    "    assert (q9_results.shape == (25698, 1))\n",
    "\n",
    "query9 = \"\"\" SELECT  Name AS Actor_Names FROM Person WHERE TRIM(PID) IN\n",
    "              (SELECT DISTINCT TRIM(PID) FROM M_Cast WHERE MID IN \n",
    "                (SELECT DISTINCT MID FROM M_Cast WHERE TRIM(PID) IN\n",
    "                  (SELECT DISTINCT TRIM(PID) FROM M_Cast WHERE TRIM(MID) IN \n",
    "                    (SELECT DISTINCT MID FROM M_Cast WHERE TRIM(PID) IN\n",
    "                      (SELECT DISTINCT TRIM(PID) FROM Person WHERE TRIM(Name) Like '%Shah Rukh Khan%')))))\n",
    "                AND TRIM(PID) NOT IN\n",
    "                     (SELECT DISTINCT TRIM(PID) FROM M_Cast WHERE MID IN \n",
    "                        (SELECT DISTINCT MID FROM M_Cast WHERE TRIM(PID) IN\n",
    "                          (SELECT DISTINCT TRIM(PID) FROM Person WHERE TRIM(Name) Like '%Shah Rukh Khan%')))\n",
    "         \"\"\"\n",
    "grader_9(query9)"
   ]
  }
 ],
 "metadata": {
  "colab": {
   "collapsed_sections": [],
   "name": "SQL Assignment.ipynb",
   "provenance": []
  },
  "kernelspec": {
   "display_name": "Python 3",
   "language": "python",
   "name": "python3"
  },
  "language_info": {
   "codemirror_mode": {
    "name": "ipython",
    "version": 3
   },
   "file_extension": ".py",
   "mimetype": "text/x-python",
   "name": "python",
   "nbconvert_exporter": "python",
   "pygments_lexer": "ipython3",
   "version": "3.6.10"
  }
 },
 "nbformat": 4,
 "nbformat_minor": 1
}
